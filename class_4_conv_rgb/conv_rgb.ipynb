{
 "cells": [
  {
   "cell_type": "code",
   "execution_count": 1,
   "metadata": {},
   "outputs": [
    {
     "data": {
      "text/plain": [
       "(5, 5)"
      ]
     },
     "execution_count": 1,
     "metadata": {},
     "output_type": "execute_result"
    }
   ],
   "source": [
    "import numpy as np\n",
    "image = np.array([\n",
    "    [1, 2, 3, 0, 1],\n",
    "    [0, 1, 2, 3, 2],\n",
    "    [3, 0, 1, 2, 1],\n",
    "    [2, 1, 3, 0, 0],\n",
    "    [1, 2, 0, 1, 2]\n",
    "])\n",
    "\n",
    "image.shape"
   ]
  },
  {
   "cell_type": "code",
   "execution_count": 2,
   "metadata": {},
   "outputs": [
    {
     "name": "stdout",
     "output_type": "stream",
     "text": [
      "Convolution Output:\n",
      " [[  0.   0.  -6.]\n",
      " [  6.   3.  -3.]\n",
      " [  3. -10.   6.]]\n"
     ]
    }
   ],
   "source": [
    "kernel = np.array([\n",
    "    [0, 1, 0],\n",
    "    [1, -4, 1],\n",
    "    [0, 1, 0]\n",
    "])\n",
    "\n",
    "\n",
    "\n",
    "# Define convolution operation\n",
    "def convolve(image, kernel):\n",
    "    image_h, image_w = image.shape\n",
    "    kernel_h, kernel_w = kernel.shape\n",
    "    output_h = image_h - kernel_h + 1\n",
    "    output_w = image_w - kernel_w + 1\n",
    "    output = np.zeros((output_h, output_w))\n",
    "\n",
    "    for i in range(output_h):\n",
    "        for j in range(output_w):\n",
    "            output[i, j] = np.sum(image[i:i+kernel_h, j:j+kernel_w] * kernel)\n",
    "\n",
    "    return output\n",
    "\n",
    "# Apply the convolution\n",
    "output = convolve(image, kernel)\n",
    "print(\"Convolution Output:\\n\", output)"
   ]
  },
  {
   "cell_type": "markdown",
   "metadata": {},
   "source": [
    "#Padding\n",
    "\n",
    "1. Padding: Zero-padding is added to the image to control the spatial dimensions of the output.\n",
    "2. Stride: Controls how much the filter moves at each step. A stride of 1 means the filter moves one pixel at a time.\n",
    "3. Convolution with Padding and Stride: The output is now controlled by the padding and stride, allowing us to maintain or reduce the spatial dimensions of the output."
   ]
  },
  {
   "cell_type": "code",
   "execution_count": 3,
   "metadata": {},
   "outputs": [
    {
     "data": {
      "text/plain": [
       "array([[0, 0, 0, 0, 0, 0, 0],\n",
       "       [0, 1, 2, 3, 0, 1, 0],\n",
       "       [0, 0, 1, 2, 3, 2, 0],\n",
       "       [0, 3, 0, 1, 2, 1, 0],\n",
       "       [0, 2, 1, 3, 0, 0, 0],\n",
       "       [0, 1, 2, 0, 1, 2, 0],\n",
       "       [0, 0, 0, 0, 0, 0, 0]])"
      ]
     },
     "execution_count": 3,
     "metadata": {},
     "output_type": "execute_result"
    }
   ],
   "source": [
    "# Adding padding\n",
    "def pad_image(image, pad):\n",
    "    return np.pad(image, pad, mode='constant', constant_values=0) # zero padding\n",
    "\n",
    "pad_image(image, 1)"
   ]
  },
  {
   "cell_type": "code",
   "execution_count": 4,
   "metadata": {},
   "outputs": [],
   "source": [
    "# Modify convolution to include stride and padding\n",
    "def convolve_with_padding_and_stride(image, kernel, stride=1, padding=0):\n",
    "    if padding > 0:\n",
    "        image = pad_image(image, padding)\n",
    "\n",
    "    image_h, image_w = image.shape\n",
    "    kernel_h, kernel_w = kernel.shape\n",
    "    output_h = (image_h - kernel_h) // stride + 1\n",
    "    output_w = (image_w - kernel_w) // stride + 1\n",
    "    output = np.zeros((output_h, output_w))\n",
    "\n",
    "    for i in range(0, output_h * stride, stride):\n",
    "        for j in range(0, output_w * stride, stride):\n",
    "            output[i // stride, j // stride] = np.sum(\n",
    "                image[i:i+kernel_h, j:j+kernel_w] * kernel\n",
    "            )\n",
    "\n",
    "    return output"
   ]
  },
  {
   "cell_type": "code",
   "execution_count": 7,
   "metadata": {},
   "outputs": [
    {
     "name": "stdout",
     "output_type": "stream",
     "text": [
      "Padded Convolution Output:\n",
      " [[ -2.  -3.  -8.   7.  -2.]\n",
      " [  5.   0.   0.  -6.  -3.]\n",
      " [-10.   6.   3.  -3.   0.]\n",
      " [ -3.   3. -10.   6.   3.]\n",
      " [  0.  -6.   6.  -2.  -7.]]\n"
     ]
    }
   ],
   "source": [
    "# Define a simple 5x5 grayscale image\n",
    "image = np.array([\n",
    "    [1, 2, 3, 0, 1],\n",
    "    [0, 1, 2, 3, 2],\n",
    "    [3, 0, 1, 2, 1],\n",
    "    [2, 1, 3, 0, 0],\n",
    "    [1, 2, 0, 1, 2]\n",
    "])\n",
    "\n",
    "# Apply the convolution with padding and stride\n",
    "padded_output = convolve_with_padding_and_stride(image, kernel, stride=1, padding=1)\n",
    "print(\"Padded Convolution Output:\\n\", padded_output)"
   ]
  },
  {
   "cell_type": "code",
   "execution_count": 8,
   "metadata": {},
   "outputs": [],
   "source": [
    "def maxpooling(image, pool_size, stride):\n",
    "    rows, cols = image.shape\n",
    "    n1 = (rows - pool_size) // stride + 1\n",
    "    n2 = (cols - pool_size) // stride + 1\n",
    "\n",
    "    output = np.zeros((n1, n2))\n",
    "\n",
    "    for i in range(0, n1* stride, stride):\n",
    "        for j in range(0, n2*stride, stride):\n",
    "            output[i//stride, j//stride] = np.max(image[i:i+pool_size, j:j+pool_size])\n",
    "    \n",
    "    return output"
   ]
  },
  {
   "cell_type": "code",
   "execution_count": 10,
   "metadata": {},
   "outputs": [
    {
     "name": "stdout",
     "output_type": "stream",
     "text": [
      "Convolution Output:\n",
      " [[[ 9.]\n",
      "  [14.]\n",
      "  [14.]]\n",
      "\n",
      " [[18.]\n",
      "  [15.]\n",
      "  [14.]]\n",
      "\n",
      " [[11.]\n",
      "  [ 9.]\n",
      "  [12.]]]\n"
     ]
    },
    {
     "data": {
      "text/plain": [
       "(3, 3, 1)"
      ]
     },
     "execution_count": 10,
     "metadata": {},
     "output_type": "execute_result"
    }
   ],
   "source": [
    "import numpy as np\n",
    "\n",
    "# Define a simple 5x5x3 RGB image (3 channels)\n",
    "image = np.array([\n",
    "    [[1, 0, 2], [2, 1, 1], [3, 2, 0], [0, 1, 1], [1, 0, 2]],\n",
    "    [[0, 1, 0], [1, 0, 1], [2, 2, 2], [3, 1, 3], [2, 0, 1]],\n",
    "    [[3, 0, 2], [0, 1, 0], [1, 0, 1], [2, 2, 2], [1, 0, 0]],\n",
    "    [[2, 1, 1], [1, 0, 2], [3, 3, 1], [0, 1, 0], [0, 2, 1]],\n",
    "    [[1, 2, 2], [2, 1, 0], [0, 0, 1], [1, 2, 2], [2, 1, 1]]\n",
    "])\n",
    "\n",
    "# Define a 3x3x3 filter (kernel) for each channel (RGB)\n",
    "kernel = np.array([\n",
    "    [[0, 1, 0], [1, -1, 1], [0, 1, 0]],\n",
    "    [[1, 0, 1], [0, -1, 0], [1, 0, 1]],\n",
    "    [[0, 1, 0], [1, 1, 1], [0, 1, 0]]\n",
    "])\n",
    "\n",
    "# Convolution operation\n",
    "def convolve_rgb(image, kernel):\n",
    "    image_h, image_w, image_c = image.shape\n",
    "    kernel_h, kernel_w, kernel_c = kernel.shape\n",
    "    output_h = image_h - kernel_h + 1\n",
    "    output_w = image_w - kernel_w + 1\n",
    "    output = np.zeros((output_h, output_w, 1))\n",
    "\n",
    "    for k in range(image_c):  # Apply the convolution for each channel\n",
    "        for i in range(output_h):\n",
    "            for j in range(output_w):\n",
    "                output[i, j] += np.sum(image[i:i+kernel_h, j:j+kernel_w, k] * kernel[:, :, k])\n",
    "    return output\n",
    "\n",
    "# Apply the convolution\n",
    "output = convolve_rgb(image, kernel)\n",
    "print(\"Convolution Output:\\n\", output)\n",
    "output.shape"
   ]
  },
  {
   "cell_type": "code",
   "execution_count": 14,
   "metadata": {},
   "outputs": [
    {
     "data": {
      "text/html": [
       "<pre style=\"white-space:pre;overflow-x:auto;line-height:normal;font-family:Menlo,'DejaVu Sans Mono',consolas,'Courier New',monospace\"><span style=\"font-weight: bold\">Model: \"sequential_2\"</span>\n",
       "</pre>\n"
      ],
      "text/plain": [
       "\u001b[1mModel: \"sequential_2\"\u001b[0m\n"
      ]
     },
     "metadata": {},
     "output_type": "display_data"
    },
    {
     "data": {
      "text/html": [
       "<pre style=\"white-space:pre;overflow-x:auto;line-height:normal;font-family:Menlo,'DejaVu Sans Mono',consolas,'Courier New',monospace\">┏━━━━━━━━━━━━━━━━━━━━━━━━━━━━━━━━━┳━━━━━━━━━━━━━━━━━━━━━━━━┳━━━━━━━━━━━━━━━┓\n",
       "┃<span style=\"font-weight: bold\"> Layer (type)                    </span>┃<span style=\"font-weight: bold\"> Output Shape           </span>┃<span style=\"font-weight: bold\">       Param # </span>┃\n",
       "┡━━━━━━━━━━━━━━━━━━━━━━━━━━━━━━━━━╇━━━━━━━━━━━━━━━━━━━━━━━━╇━━━━━━━━━━━━━━━┩\n",
       "│ conv2d_2 (<span style=\"color: #0087ff; text-decoration-color: #0087ff\">Conv2D</span>)               │ (<span style=\"color: #00d7ff; text-decoration-color: #00d7ff\">None</span>, <span style=\"color: #00af00; text-decoration-color: #00af00\">100</span>, <span style=\"color: #00af00; text-decoration-color: #00af00\">100</span>, <span style=\"color: #00af00; text-decoration-color: #00af00\">16</span>)   │           <span style=\"color: #00af00; text-decoration-color: #00af00\">448</span> │\n",
       "├─────────────────────────────────┼────────────────────────┼───────────────┤\n",
       "│ max_pooling2d (<span style=\"color: #0087ff; text-decoration-color: #0087ff\">MaxPooling2D</span>)    │ (<span style=\"color: #00d7ff; text-decoration-color: #00d7ff\">None</span>, <span style=\"color: #00af00; text-decoration-color: #00af00\">50</span>, <span style=\"color: #00af00; text-decoration-color: #00af00\">50</span>, <span style=\"color: #00af00; text-decoration-color: #00af00\">16</span>)     │             <span style=\"color: #00af00; text-decoration-color: #00af00\">0</span> │\n",
       "├─────────────────────────────────┼────────────────────────┼───────────────┤\n",
       "│ conv2d_3 (<span style=\"color: #0087ff; text-decoration-color: #0087ff\">Conv2D</span>)               │ (<span style=\"color: #00d7ff; text-decoration-color: #00d7ff\">None</span>, <span style=\"color: #00af00; text-decoration-color: #00af00\">50</span>, <span style=\"color: #00af00; text-decoration-color: #00af00\">50</span>, <span style=\"color: #00af00; text-decoration-color: #00af00\">32</span>)     │         <span style=\"color: #00af00; text-decoration-color: #00af00\">4,640</span> │\n",
       "├─────────────────────────────────┼────────────────────────┼───────────────┤\n",
       "│ max_pooling2d_1 (<span style=\"color: #0087ff; text-decoration-color: #0087ff\">MaxPooling2D</span>)  │ (<span style=\"color: #00d7ff; text-decoration-color: #00d7ff\">None</span>, <span style=\"color: #00af00; text-decoration-color: #00af00\">25</span>, <span style=\"color: #00af00; text-decoration-color: #00af00\">25</span>, <span style=\"color: #00af00; text-decoration-color: #00af00\">32</span>)     │             <span style=\"color: #00af00; text-decoration-color: #00af00\">0</span> │\n",
       "└─────────────────────────────────┴────────────────────────┴───────────────┘\n",
       "</pre>\n"
      ],
      "text/plain": [
       "┏━━━━━━━━━━━━━━━━━━━━━━━━━━━━━━━━━┳━━━━━━━━━━━━━━━━━━━━━━━━┳━━━━━━━━━━━━━━━┓\n",
       "┃\u001b[1m \u001b[0m\u001b[1mLayer (type)                   \u001b[0m\u001b[1m \u001b[0m┃\u001b[1m \u001b[0m\u001b[1mOutput Shape          \u001b[0m\u001b[1m \u001b[0m┃\u001b[1m \u001b[0m\u001b[1m      Param #\u001b[0m\u001b[1m \u001b[0m┃\n",
       "┡━━━━━━━━━━━━━━━━━━━━━━━━━━━━━━━━━╇━━━━━━━━━━━━━━━━━━━━━━━━╇━━━━━━━━━━━━━━━┩\n",
       "│ conv2d_2 (\u001b[38;5;33mConv2D\u001b[0m)               │ (\u001b[38;5;45mNone\u001b[0m, \u001b[38;5;34m100\u001b[0m, \u001b[38;5;34m100\u001b[0m, \u001b[38;5;34m16\u001b[0m)   │           \u001b[38;5;34m448\u001b[0m │\n",
       "├─────────────────────────────────┼────────────────────────┼───────────────┤\n",
       "│ max_pooling2d (\u001b[38;5;33mMaxPooling2D\u001b[0m)    │ (\u001b[38;5;45mNone\u001b[0m, \u001b[38;5;34m50\u001b[0m, \u001b[38;5;34m50\u001b[0m, \u001b[38;5;34m16\u001b[0m)     │             \u001b[38;5;34m0\u001b[0m │\n",
       "├─────────────────────────────────┼────────────────────────┼───────────────┤\n",
       "│ conv2d_3 (\u001b[38;5;33mConv2D\u001b[0m)               │ (\u001b[38;5;45mNone\u001b[0m, \u001b[38;5;34m50\u001b[0m, \u001b[38;5;34m50\u001b[0m, \u001b[38;5;34m32\u001b[0m)     │         \u001b[38;5;34m4,640\u001b[0m │\n",
       "├─────────────────────────────────┼────────────────────────┼───────────────┤\n",
       "│ max_pooling2d_1 (\u001b[38;5;33mMaxPooling2D\u001b[0m)  │ (\u001b[38;5;45mNone\u001b[0m, \u001b[38;5;34m25\u001b[0m, \u001b[38;5;34m25\u001b[0m, \u001b[38;5;34m32\u001b[0m)     │             \u001b[38;5;34m0\u001b[0m │\n",
       "└─────────────────────────────────┴────────────────────────┴───────────────┘\n"
      ]
     },
     "metadata": {},
     "output_type": "display_data"
    },
    {
     "data": {
      "text/html": [
       "<pre style=\"white-space:pre;overflow-x:auto;line-height:normal;font-family:Menlo,'DejaVu Sans Mono',consolas,'Courier New',monospace\"><span style=\"font-weight: bold\"> Total params: </span><span style=\"color: #00af00; text-decoration-color: #00af00\">5,088</span> (19.88 KB)\n",
       "</pre>\n"
      ],
      "text/plain": [
       "\u001b[1m Total params: \u001b[0m\u001b[38;5;34m5,088\u001b[0m (19.88 KB)\n"
      ]
     },
     "metadata": {},
     "output_type": "display_data"
    },
    {
     "data": {
      "text/html": [
       "<pre style=\"white-space:pre;overflow-x:auto;line-height:normal;font-family:Menlo,'DejaVu Sans Mono',consolas,'Courier New',monospace\"><span style=\"font-weight: bold\"> Trainable params: </span><span style=\"color: #00af00; text-decoration-color: #00af00\">5,088</span> (19.88 KB)\n",
       "</pre>\n"
      ],
      "text/plain": [
       "\u001b[1m Trainable params: \u001b[0m\u001b[38;5;34m5,088\u001b[0m (19.88 KB)\n"
      ]
     },
     "metadata": {},
     "output_type": "display_data"
    },
    {
     "data": {
      "text/html": [
       "<pre style=\"white-space:pre;overflow-x:auto;line-height:normal;font-family:Menlo,'DejaVu Sans Mono',consolas,'Courier New',monospace\"><span style=\"font-weight: bold\"> Non-trainable params: </span><span style=\"color: #00af00; text-decoration-color: #00af00\">0</span> (0.00 B)\n",
       "</pre>\n"
      ],
      "text/plain": [
       "\u001b[1m Non-trainable params: \u001b[0m\u001b[38;5;34m0\u001b[0m (0.00 B)\n"
      ]
     },
     "metadata": {},
     "output_type": "display_data"
    }
   ],
   "source": [
    "# Implementing with keras\n",
    "import tensorflow as tf\n",
    "\n",
    "from tensorflow.keras import layers, models\n",
    "\n",
    "\n",
    "input_shape = (100, 100, 3)\n",
    "\n",
    "model = models.Sequential()\n",
    "\n",
    "model.add(layers.Input(shape = input_shape))\n",
    "\n",
    "model.add(layers.Conv2D(16, (3,3), padding='same', strides=1, activation='relu'))\n",
    "model.add(layers.MaxPool2D(pool_size=(2, 2), strides = 2))\n",
    "\n",
    "model.add(layers.Conv2D(32, (3,3), padding='same', strides=1, activation='relu'))\n",
    "model.add(layers.MaxPool2D(pool_size=(2, 2), strides = 2))\n",
    "\n",
    "model.summary()\n"
   ]
  }
 ],
 "metadata": {
  "kernelspec": {
   "display_name": "Scene_det",
   "language": "python",
   "name": "python3"
  },
  "language_info": {
   "codemirror_mode": {
    "name": "ipython",
    "version": 3
   },
   "file_extension": ".py",
   "mimetype": "text/x-python",
   "name": "python",
   "nbconvert_exporter": "python",
   "pygments_lexer": "ipython3",
   "version": "3.10.15"
  }
 },
 "nbformat": 4,
 "nbformat_minor": 2
}
